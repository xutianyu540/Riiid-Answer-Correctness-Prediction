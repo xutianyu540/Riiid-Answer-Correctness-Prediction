{
 "cells": [
  {
   "cell_type": "code",
   "execution_count": 1,
   "metadata": {},
   "outputs": [],
   "source": [
    "import pandas as pd\n",
    "import numpy as np\n",
    "import gc\n",
    "from sklearn.metrics import roc_auc_score\n",
    "from collections import defaultdict\n",
    "from tqdm.notebook import tqdm\n",
    "import lightgbm as lgb"
   ]
  },
  {
   "cell_type": "code",
   "execution_count": 2,
   "metadata": {},
   "outputs": [],
   "source": [
    "feld_needed = ['timestamp','user_id','content_id','task_container_id', 'content_type_id', 'answered_correctly', 'prior_question_elapsed_time', 'prior_question_had_explanation']\n",
    "\n",
    "train_all = pd.read_pickle('./cv138.pickle')[feld_needed]\n"
   ]
  },
  {
   "cell_type": "code",
   "execution_count": 3,
   "metadata": {},
   "outputs": [],
   "source": [
    "target = 'answered_correctly'"
   ]
  },
  {
   "cell_type": "code",
   "execution_count": 4,
   "metadata": {},
   "outputs": [
    {
     "data": {
      "text/html": [
       "<div>\n",
       "<style scoped>\n",
       "    .dataframe tbody tr th:only-of-type {\n",
       "        vertical-align: middle;\n",
       "    }\n",
       "\n",
       "    .dataframe tbody tr th {\n",
       "        vertical-align: top;\n",
       "    }\n",
       "\n",
       "    .dataframe thead th {\n",
       "        text-align: right;\n",
       "    }\n",
       "</style>\n",
       "<table border=\"1\" class=\"dataframe\">\n",
       "  <thead>\n",
       "    <tr style=\"text-align: right;\">\n",
       "      <th></th>\n",
       "      <th>timestamp</th>\n",
       "      <th>user_id</th>\n",
       "      <th>content_id</th>\n",
       "      <th>task_container_id</th>\n",
       "      <th>content_type_id</th>\n",
       "      <th>answered_correctly</th>\n",
       "      <th>prior_question_elapsed_time</th>\n",
       "      <th>prior_question_had_explanation</th>\n",
       "    </tr>\n",
       "  </thead>\n",
       "  <tbody>\n",
       "    <tr>\n",
       "      <th>0</th>\n",
       "      <td>0</td>\n",
       "      <td>705741139</td>\n",
       "      <td>128</td>\n",
       "      <td>0</td>\n",
       "      <td>0</td>\n",
       "      <td>1</td>\n",
       "      <td>NaN</td>\n",
       "      <td>&lt;NA&gt;</td>\n",
       "    </tr>\n",
       "    <tr>\n",
       "      <th>1</th>\n",
       "      <td>20666</td>\n",
       "      <td>705741139</td>\n",
       "      <td>7860</td>\n",
       "      <td>1</td>\n",
       "      <td>0</td>\n",
       "      <td>1</td>\n",
       "      <td>16000.0</td>\n",
       "      <td>False</td>\n",
       "    </tr>\n",
       "    <tr>\n",
       "      <th>2</th>\n",
       "      <td>39172</td>\n",
       "      <td>705741139</td>\n",
       "      <td>7922</td>\n",
       "      <td>2</td>\n",
       "      <td>0</td>\n",
       "      <td>1</td>\n",
       "      <td>19000.0</td>\n",
       "      <td>False</td>\n",
       "    </tr>\n",
       "    <tr>\n",
       "      <th>3</th>\n",
       "      <td>58207</td>\n",
       "      <td>705741139</td>\n",
       "      <td>156</td>\n",
       "      <td>3</td>\n",
       "      <td>0</td>\n",
       "      <td>1</td>\n",
       "      <td>17000.0</td>\n",
       "      <td>False</td>\n",
       "    </tr>\n",
       "    <tr>\n",
       "      <th>4</th>\n",
       "      <td>75779</td>\n",
       "      <td>705741139</td>\n",
       "      <td>51</td>\n",
       "      <td>4</td>\n",
       "      <td>0</td>\n",
       "      <td>1</td>\n",
       "      <td>17000.0</td>\n",
       "      <td>False</td>\n",
       "    </tr>\n",
       "  </tbody>\n",
       "</table>\n",
       "</div>"
      ],
      "text/plain": [
       "   timestamp    user_id  content_id  task_container_id  content_type_id  \\\n",
       "0          0  705741139         128                  0                0   \n",
       "1      20666  705741139        7860                  1                0   \n",
       "2      39172  705741139        7922                  2                0   \n",
       "3      58207  705741139         156                  3                0   \n",
       "4      75779  705741139          51                  4                0   \n",
       "\n",
       "   answered_correctly  prior_question_elapsed_time  \\\n",
       "0                   1                          NaN   \n",
       "1                   1                      16000.0   \n",
       "2                   1                      19000.0   \n",
       "3                   1                      17000.0   \n",
       "4                   1                      17000.0   \n",
       "\n",
       "   prior_question_had_explanation  \n",
       "0                            <NA>  \n",
       "1                           False  \n",
       "2                           False  \n",
       "3                           False  \n",
       "4                           False  "
      ]
     },
     "execution_count": 4,
     "metadata": {},
     "output_type": "execute_result"
    }
   ],
   "source": [
    "train_all.head()"
   ]
  },
  {
   "cell_type": "code",
   "execution_count": 5,
   "metadata": {},
   "outputs": [],
   "source": [
    "train_all['user_lecture_sum'] = train_all.groupby('user_id')['content_type_id'].transform('cumsum')"
   ]
  },
  {
   "cell_type": "code",
   "execution_count": 6,
   "metadata": {},
   "outputs": [],
   "source": [
    "train_all['user_lecture_lv'] = train_all.groupby(\"user_id\")[\"content_type_id\"].transform(lambda x: x.shift(1).rolling(5,min_periods=0).mean())"
   ]
  },
  {
   "cell_type": "code",
   "execution_count": 7,
   "metadata": {},
   "outputs": [],
   "source": [
    "# user_lecture_agg = train_all.groupby('user_id')['content_type_id'].agg(['sum', 'count'])\n",
    "# user_lecture_agg=user_lecture_agg.astype('int16')"
   ]
  },
  {
   "cell_type": "code",
   "execution_count": 8,
   "metadata": {},
   "outputs": [],
   "source": [
    "# user_lecture_agg.to_csv('user_lecture_agg.csv')"
   ]
  },
  {
   "cell_type": "code",
   "execution_count": 9,
   "metadata": {},
   "outputs": [],
   "source": [
    "train_all = train_all.loc[train_all.content_type_id == False].reset_index(drop=True)"
   ]
  },
  {
   "cell_type": "code",
   "execution_count": 10,
   "metadata": {},
   "outputs": [],
   "source": [
    "train_all['timestamp_lag2'] = train_all[['user_id', 'timestamp']].groupby(['user_id'])[['timestamp']].shift(2)"
   ]
  },
  {
   "cell_type": "code",
   "execution_count": 11,
   "metadata": {},
   "outputs": [],
   "source": [
    "train_all['lag_time2'] = train_all['timestamp'] - train_all['timestamp_lag2']"
   ]
  },
  {
   "cell_type": "code",
   "execution_count": 12,
   "metadata": {},
   "outputs": [],
   "source": [
    "train_all['timestamp_lag3'] = train_all[['user_id', 'timestamp']].groupby(['user_id'])[['timestamp']].shift(3)"
   ]
  },
  {
   "cell_type": "code",
   "execution_count": 13,
   "metadata": {},
   "outputs": [],
   "source": [
    "train_all['lag_time3'] = train_all['timestamp'] - train_all['timestamp_lag3']"
   ]
  },
  {
   "cell_type": "code",
   "execution_count": 14,
   "metadata": {},
   "outputs": [],
   "source": [
    "train_all['lag_time'] = train_all[['user_id', 'timestamp']].groupby(['user_id'])['timestamp'].diff()"
   ]
  },
  {
   "cell_type": "code",
   "execution_count": 15,
   "metadata": {},
   "outputs": [],
   "source": [
    "train_all['lag_time'] = train_all['lag_time']/(1000*3600)\n",
    "train_all['lag_time2'] = train_all['lag_time2']/(1000*3600)\n",
    "train_all['lag_time3'] = train_all['lag_time3']/(1000*3600)"
   ]
  },
  {
   "cell_type": "code",
   "execution_count": 16,
   "metadata": {},
   "outputs": [],
   "source": [
    "time_mean = train_all['lag_time'].median()\n",
    "time_mean2 = train_all['lag_time2'].median()\n",
    "time_mean3 = train_all['lag_time3'].median()"
   ]
  },
  {
   "cell_type": "code",
   "execution_count": 17,
   "metadata": {},
   "outputs": [
    {
     "data": {
      "text/plain": [
       "0.009687222222222222"
      ]
     },
     "execution_count": 17,
     "metadata": {},
     "output_type": "execute_result"
    }
   ],
   "source": [
    "time_mean"
   ]
  },
  {
   "cell_type": "code",
   "execution_count": 18,
   "metadata": {},
   "outputs": [
    {
     "data": {
      "text/plain": [
       "0.025640833333333335"
      ]
     },
     "execution_count": 18,
     "metadata": {},
     "output_type": "execute_result"
    }
   ],
   "source": [
    "time_mean2"
   ]
  },
  {
   "cell_type": "code",
   "execution_count": 19,
   "metadata": {},
   "outputs": [
    {
     "data": {
      "text/plain": [
       "0.043081666666666664"
      ]
     },
     "execution_count": 19,
     "metadata": {},
     "output_type": "execute_result"
    }
   ],
   "source": [
    "time_mean3"
   ]
  },
  {
   "cell_type": "code",
   "execution_count": 20,
   "metadata": {},
   "outputs": [],
   "source": [
    "train_all['lag_time'].fillna(time_mean,inplace=True)\n",
    "train_all['lag_time2'].fillna(time_mean2,inplace=True)\n",
    "train_all['lag_time3'].fillna(time_mean3,inplace=True)"
   ]
  },
  {
   "cell_type": "code",
   "execution_count": 21,
   "metadata": {},
   "outputs": [],
   "source": [
    "prior_question_elapsed_time_mean = train_all.prior_question_elapsed_time.dropna().values.mean()\n",
    "train_all['prior_question_elapsed_time_mean'] = train_all.prior_question_elapsed_time.fillna(prior_question_elapsed_time_mean)\n",
    "# valid['prior_question_elapsed_time_mean'] = valid.prior_question_elapsed_time.fillna(prior_question_elapsed_time_mean)\n",
    "train_all['prior_lag_time'] = train_all[['user_id', 'prior_question_elapsed_time_mean']].groupby(['user_id'])['prior_question_elapsed_time_mean'].diff()"
   ]
  },
  {
   "cell_type": "code",
   "execution_count": 22,
   "metadata": {},
   "outputs": [],
   "source": [
    "train_all['prior_question_elapsed_time_mean'] = train_all['prior_question_elapsed_time_mean']/(1000*3600)\n",
    "train_all['prior_lag_time'] = train_all['prior_lag_time']/(1000*3600)"
   ]
  },
  {
   "cell_type": "code",
   "execution_count": 23,
   "metadata": {},
   "outputs": [],
   "source": [
    "train_all['elapsed_time_question'] = train_all['lag_time'] - train_all['prior_question_elapsed_time_mean']"
   ]
  },
  {
   "cell_type": "code",
   "execution_count": 24,
   "metadata": {},
   "outputs": [],
   "source": [
    "train_all['prior_lag_time'].fillna(train_all['prior_lag_time'].mean(),inplace=True)"
   ]
  },
  {
   "cell_type": "code",
   "execution_count": 25,
   "metadata": {},
   "outputs": [],
   "source": [
    "train_all['prior_question_had_explanation'].fillna(False, inplace=True)"
   ]
  },
  {
   "cell_type": "code",
   "execution_count": 26,
   "metadata": {},
   "outputs": [],
   "source": [
    "train_all['prior_question_had_explanation'] = train_all['prior_question_had_explanation'].astype('int')"
   ]
  },
  {
   "cell_type": "code",
   "execution_count": null,
   "metadata": {},
   "outputs": [],
   "source": [
    "train_all['lag'] = train_all[['user_id',target]].groupby('user_id')[target].shift()\n",
    "cum = train_all[['user_id','lag']].groupby('user_id')['lag'].agg(['cumsum', 'cumcount'])\n",
    "train_all['user_correctness'] = train_all.groupby(\"user_id\")[target].transform(lambda x: x.shift(1).rolling(5,min_periods=0).mean())\n",
    "train_all['user_correct_cumsum'] = cum['cumsum']\n",
    "train_all['user_correct_cumcount'] = cum['cumcount']\n",
    "train_all.drop(columns=['lag'], inplace=True)"
   ]
  },
  {
   "cell_type": "code",
   "execution_count": null,
   "metadata": {},
   "outputs": [],
   "source": [
    "train_all['lag'] = train_all.groupby('user_id')['prior_question_had_explanation'].shift()"
   ]
  },
  {
   "cell_type": "code",
   "execution_count": null,
   "metadata": {},
   "outputs": [],
   "source": [
    "cum = train_all.groupby('user_id')['lag'].agg(['cumsum', 'cumcount'])\n",
    "train_all['explanation_mean'] = train_all.groupby(\"user_id\")['prior_question_had_explanation'].transform(lambda x: x.shift(1).rolling(5,min_periods=0).mean())\n",
    "train_all['explanation_cumsum'] = cum['cumsum'] \n",
    "train_all.drop(columns=['lag'], inplace=True)"
   ]
  },
  {
   "cell_type": "code",
   "execution_count": null,
   "metadata": {},
   "outputs": [],
   "source": [
    "train_all[\"attempt\"] = 1\n",
    "train_all[\"attempt\"] = train_all[[\"user_id\",\"content_id\",'attempt']].groupby([\"user_id\",\"content_id\"])[\"attempt\"].cumsum()"
   ]
  },
  {
   "cell_type": "code",
   "execution_count": null,
   "metadata": {},
   "outputs": [],
   "source": [
    "debug = False\n",
    "if debug:\n",
    "    train_all = train_all[:1000000]\n",
    "    train = train_all[:-250000]\n",
    "    valid = train_all[-250000:]\n",
    "else:\n",
    "    train = train_all\n",
    "#     valid = train_all[-2500000:]\n",
    "    "
   ]
  },
  {
   "cell_type": "code",
   "execution_count": null,
   "metadata": {},
   "outputs": [],
   "source": [
    "questions_df = pd.read_csv('./questions.csv')\n",
    "question_cmnts = pd.read_csv('./question_cmnts.csv')\n",
    "question_tag = pd.read_csv('./question_tag.csv')\n"
   ]
  },
  {
   "cell_type": "code",
   "execution_count": null,
   "metadata": {},
   "outputs": [],
   "source": [
    "index_tags = questions_df['tags'].str.split(' ').explode().reset_index()\n",
    "index_tags['tags_num'] = index_tags.groupby('index')['tags'].transform('nunique')\n",
    "index_tags = index_tags.drop_duplicates('index')"
   ]
  },
  {
   "cell_type": "code",
   "execution_count": null,
   "metadata": {},
   "outputs": [],
   "source": [
    "questions_df = questions_df.merge(index_tags[['index','tags_num']],left_on='question_id',right_on='index',how='left')"
   ]
  },
  {
   "cell_type": "code",
   "execution_count": null,
   "metadata": {},
   "outputs": [],
   "source": [
    "questions_df['tags_num'] = questions_df['tags_num'].apply(lambda x : 1 if x == 0 else x)"
   ]
  },
  {
   "cell_type": "code",
   "execution_count": null,
   "metadata": {},
   "outputs": [],
   "source": [
    "questions_df = questions_df.merge(question_cmnts,how='left',left_on='question_id',right_on='Unnamed: 0')"
   ]
  },
  {
   "cell_type": "code",
   "execution_count": null,
   "metadata": {},
   "outputs": [],
   "source": [
    "questions_df['community'] = questions_df['community'].apply(lambda x: 2 if x == 4 else x)"
   ]
  },
  {
   "cell_type": "code",
   "execution_count": null,
   "metadata": {},
   "outputs": [],
   "source": [
    "questions_df = questions_df.merge(question_tag,how='left',on='question_id')"
   ]
  },
  {
   "cell_type": "code",
   "execution_count": null,
   "metadata": {},
   "outputs": [],
   "source": [
    "question_cor = pd.read_csv('./tag_cor.csv')"
   ]
  },
  {
   "cell_type": "code",
   "execution_count": null,
   "metadata": {},
   "outputs": [],
   "source": [
    "question_cor.head()"
   ]
  },
  {
   "cell_type": "code",
   "execution_count": null,
   "metadata": {},
   "outputs": [],
   "source": [
    "index_tags = questions_df['tags'].str.split(' ').explode().reset_index()"
   ]
  },
  {
   "cell_type": "code",
   "execution_count": null,
   "metadata": {},
   "outputs": [],
   "source": [
    "index_tags.dropna(inplace = True)"
   ]
  },
  {
   "cell_type": "code",
   "execution_count": null,
   "metadata": {},
   "outputs": [],
   "source": [
    "index_tags['tags'] = index_tags['tags'].astype('int64')"
   ]
  },
  {
   "cell_type": "code",
   "execution_count": null,
   "metadata": {},
   "outputs": [],
   "source": [
    "index_tags = index_tags.merge(question_cor,on='tags',how='left')"
   ]
  },
  {
   "cell_type": "code",
   "execution_count": null,
   "metadata": {},
   "outputs": [],
   "source": [
    "index_tags.head()"
   ]
  },
  {
   "cell_type": "code",
   "execution_count": null,
   "metadata": {},
   "outputs": [],
   "source": [
    "index_tags['tag_cor_mean'] = index_tags.groupby('index')['answered_correctly'].transform('mean')"
   ]
  },
  {
   "cell_type": "code",
   "execution_count": null,
   "metadata": {},
   "outputs": [],
   "source": [
    "index_tags['tag_cor_max'] = index_tags.groupby('index')['answered_correctly'].transform('max')\n",
    "index_tags['tag_cor_min'] = index_tags.groupby('index')['answered_correctly'].transform('min')"
   ]
  },
  {
   "cell_type": "code",
   "execution_count": null,
   "metadata": {},
   "outputs": [],
   "source": [
    "index_tags = index_tags.drop_duplicates('index')"
   ]
  },
  {
   "cell_type": "code",
   "execution_count": null,
   "metadata": {},
   "outputs": [],
   "source": [
    "questions_df = questions_df.merge(index_tags[['index','tag_cor_mean','tag_cor_max','tag_cor_min']],on='index',how='left')"
   ]
  },
  {
   "cell_type": "code",
   "execution_count": null,
   "metadata": {},
   "outputs": [],
   "source": [
    "train = pd.merge(train, questions_df[['question_id', 'part','tags_num','community','bundle_id','tags_lsi','tag_cor_mean','tag_cor_max','tag_cor_min']], left_on = 'content_id', right_on = 'question_id', how = 'left')\n",
    "# valid = pd.merge(valid, questions_df[['question_id', 'part','tags_num','community','bundle_id']], left_on = 'content_id', right_on = 'question_id', how = 'left')"
   ]
  },
  {
   "cell_type": "code",
   "execution_count": null,
   "metadata": {},
   "outputs": [],
   "source": [
    "questions_df.shape"
   ]
  },
  {
   "cell_type": "code",
   "execution_count": null,
   "metadata": {},
   "outputs": [],
   "source": [
    "train[\"task_con\"] = (train.timestamp != train.timestamp.shift()).cumsum()\n",
    "train[\"user_bundle_first\"] = train.groupby([\"user_id\",\"task_con\"])[\"bundle_id\"].transform(\"first\")\n",
    "train[\"user_tag_first\"] = train.groupby([\"user_id\",\"task_con\"])[\"tags_lsi\"].transform(\"first\")"
   ]
  },
  {
   "cell_type": "code",
   "execution_count": null,
   "metadata": {},
   "outputs": [],
   "source": [
    "train[['user_id','user_bundle_first']].groupby('user_id')[[\"user_bundle_first\"]].last().reset_index().to_csv('user_bundle_first.csv',index=False)\n",
    "train[['user_id','user_tag_first']].groupby('user_id')[[\"user_tag_first\"]].last().reset_index().to_csv('user_tag_first.csv',index=False)"
   ]
  },
  {
   "cell_type": "code",
   "execution_count": null,
   "metadata": {},
   "outputs": [],
   "source": [
    "# train[['user_id','user_bundle_first']].drop_duplicates().to_csv('user_bundle_first.csv',index=False)\n",
    "# train[['user_id','user_tag_first']].drop_duplicates().to_csv('user_tag_first.csv',index=False)"
   ]
  },
  {
   "cell_type": "code",
   "execution_count": null,
   "metadata": {},
   "outputs": [],
   "source": [
    "# questions_df[['question_id', 'part','tags_num','community','bundle_id','tags_lsi','tag_cor_mean','tag_cor_max','tag_cor_min']].to_csv('questions_df.csv')"
   ]
  },
  {
   "cell_type": "code",
   "execution_count": null,
   "metadata": {},
   "outputs": [],
   "source": [
    "# train = pd.concat([train,pd.get_dummies(train['part'],prefix='part')],axis=1)\n",
    "# valid = pd.concat([valid,pd.get_dummies(valid['part'],prefix='part')],axis=1)"
   ]
  },
  {
   "cell_type": "code",
   "execution_count": null,
   "metadata": {},
   "outputs": [],
   "source": [
    "answered_correctly_avg_c = train[['content_id','answered_correctly']].groupby(['content_id']).agg('mean').reset_index()\n",
    "answered_correctly_avg_c.columns = ['content_id','answered_correctly_avg_c']\n",
    "answered_correctly_std_c = train[['content_id','answered_correctly']].groupby(['content_id']).agg('std').reset_index()\n",
    "answered_correctly_std_c.columns = ['content_id','answered_correctly_std_c']\n",
    "answered_correctly_sum_c = train[['content_id','answered_correctly']].groupby(['content_id']).agg('sum').reset_index()\n",
    "answered_correctly_sum_c.columns = ['content_id','answered_correctly_sum_c']\n",
    "lag_time_avg_c = train[['content_id','lag_time']].groupby(['content_id']).agg('mean').reset_index()\n",
    "lag_time_avg_c.columns = ['content_id','lag_time_avg_c']\n",
    "\n",
    "answered_correctly_sum_m = train[['community','answered_correctly']].groupby(['community']).agg('sum').reset_index()\n",
    "answered_correctly_sum_m.columns = ['community','answered_correctly_sum_m']\n",
    "lag_time_avg_m = train[['community','lag_time']].groupby(['community']).agg('mean').reset_index()\n",
    "lag_time_avg_m.columns = ['community','lag_time_avg_m']\n",
    "\n",
    "answered_correctly_avg_p = train[['part','answered_correctly']].groupby(['part']).agg('mean').reset_index()\n",
    "answered_correctly_avg_p.columns = ['part','answered_correctly_avg_p']\n",
    "answered_correctly_sum_p = train[['part','answered_correctly']].groupby(['part']).agg('sum').reset_index()\n",
    "answered_correctly_sum_p.columns = ['part','answered_correctly_sum_p']\n",
    "lag_time_avg_p = train[['part','lag_time']].groupby(['part']).agg('mean').reset_index()\n",
    "lag_time_avg_p.columns = ['part','lag_time_avg_p']\n",
    "\n",
    "answered_correctly_avg_b = train[['bundle_id','answered_correctly']].groupby(['bundle_id']).agg('mean').reset_index()\n",
    "answered_correctly_avg_b.columns = ['bundle_id','answered_correctly_avg_b']\n",
    "lag_time_avg_b = train[['bundle_id','lag_time']].groupby(['bundle_id']).agg('mean').reset_index()\n",
    "lag_time_avg_b.columns = ['bundle_id','lag_time_avg_b']\n",
    "\n",
    "answered_correctly_avg_t = train[['task_container_id','answered_correctly']].groupby(['task_container_id']).agg('mean').reset_index()\n",
    "answered_correctly_avg_t.columns = ['task_container_id','answered_correctly_avg_t']\n",
    "answered_correctly_sum_t = train[['task_container_id','answered_correctly']].groupby(['task_container_id']).agg('sum').reset_index()\n",
    "answered_correctly_sum_t.columns = ['task_container_id','answered_correctly_sum_t']\n",
    "lag_time_avg_t = train[['task_container_id','lag_time']].groupby(['task_container_id']).agg('mean').reset_index()\n",
    "lag_time_avg_t.columns = ['task_container_id','lag_time_avg_t']\n",
    "\n",
    "\n",
    "answered_correctly_avg_g = train[['tags_lsi','answered_correctly']].groupby(['tags_lsi']).agg('mean').reset_index()\n",
    "answered_correctly_avg_g.columns = ['tags_lsi','answered_correctly_avg_g']\n",
    "answered_correctly_sum_g = train[['tags_lsi','answered_correctly']].groupby(['tags_lsi']).agg('sum').reset_index()\n",
    "answered_correctly_sum_g.columns = ['tags_lsi','answered_correctly_sum_g']\n",
    "lag_time_avg_g = train[['tags_lsi','lag_time']].groupby(['tags_lsi']).agg('mean').reset_index()\n",
    "lag_time_avg_g.columns = ['tags_lsi','lag_time_avg_g']"
   ]
  },
  {
   "cell_type": "code",
   "execution_count": null,
   "metadata": {},
   "outputs": [],
   "source": [
    "answered_correctly_avg_c['hard_question'] = answered_correctly_avg_c['answered_correctly_avg_c'].apply(lambda x : 1 if x < 0.60 else 0)\n",
    "answered_correctly_avg_c['middle_question'] = answered_correctly_avg_c['answered_correctly_avg_c'].apply(lambda x : 1 if 0.60<=x<0.83  else 0)\n",
    "answered_correctly_avg_c['easy_question'] = answered_correctly_avg_c['answered_correctly_avg_c'].apply(lambda x : 1 if x >=0.83 else 0)"
   ]
  },
  {
   "cell_type": "code",
   "execution_count": null,
   "metadata": {},
   "outputs": [],
   "source": [
    "train = pd.merge(train, answered_correctly_avg_c, on='content_id',  how=\"left\")\n",
    "train = pd.merge(train, answered_correctly_std_c, on='content_id',  how=\"left\")\n",
    "train = pd.merge(train, answered_correctly_sum_c, on='content_id',  how=\"left\")\n",
    "train = pd.merge(train, answered_correctly_sum_m, on='community',  how=\"left\")\n",
    "train = pd.merge(train, answered_correctly_avg_p, on='part',  how=\"left\")\n",
    "train = pd.merge(train, answered_correctly_sum_p, on='part',  how=\"left\")\n",
    "train = pd.merge(train, answered_correctly_avg_b, on='bundle_id',  how=\"left\")\n",
    "train = pd.merge(train, answered_correctly_avg_t, on='task_container_id',  how=\"left\")\n",
    "train = pd.merge(train, answered_correctly_sum_t, on='task_container_id',  how=\"left\")\n",
    "train = pd.merge(train, answered_correctly_avg_g, on='tags_lsi',  how=\"left\")\n",
    "train = pd.merge(train, answered_correctly_sum_g, on='tags_lsi',  how=\"left\")\n",
    "\n",
    "train = pd.merge(train, lag_time_avg_c, on='content_id',  how=\"left\")\n",
    "train = pd.merge(train, lag_time_avg_m, on='community',  how=\"left\")\n",
    "train = pd.merge(train, lag_time_avg_p, on='part',  how=\"left\")\n",
    "train = pd.merge(train, lag_time_avg_b, on='bundle_id',  how=\"left\")\n",
    "train = pd.merge(train, lag_time_avg_t, on='task_container_id',  how=\"left\")\n",
    "train = pd.merge(train, lag_time_avg_g, on='tags_lsi',  how=\"left\")\n",
    "##############################\n",
    "\n",
    "# valid = pd.merge(valid, answered_correctly_avg_c, on='content_id',  how=\"left\")\n",
    "# valid = pd.merge(valid, answered_correctly_std_c, on='content_id',  how=\"left\")\n",
    "# valid = pd.merge(valid, answered_correctly_sum_c, on='content_id',  how=\"left\")\n",
    "# valid = pd.merge(valid, answered_correctly_sum_m, on='community',  how=\"left\")\n",
    "# valid = pd.merge(valid, answered_correctly_avg_p, on='part',  how=\"left\")\n",
    "# valid = pd.merge(valid, answered_correctly_sum_p, on='part',  how=\"left\")\n",
    "# valid = pd.merge(valid, answered_correctly_avg_b, on='bundle_id',  how=\"left\")\n",
    "# valid = pd.merge(valid, answered_correctly_avg_t, on='task_container_id',  how=\"left\")\n",
    "# valid = pd.merge(valid, answered_correctly_sum_t, on='task_container_id',  how=\"left\")\n",
    "# valid = pd.merge(valid, leature_sum, on='user_id',  how=\"left\")\n",
    "# valid = pd.merge(valid, leature_mean, on='user_id',  how=\"left\")"
   ]
  },
  {
   "cell_type": "code",
   "execution_count": null,
   "metadata": {},
   "outputs": [],
   "source": [
    "cum_hard = train[['user_id','hard_question']].groupby('user_id')['hard_question'].agg(['cumsum', 'cumcount'])\n",
    "cum_middle = train[['user_id','middle_question']].groupby('user_id')['middle_question'].agg(['cumsum', 'cumcount'])\n",
    "cum_easy = train[['user_id','easy_question']].groupby('user_id')['easy_question'].agg(['cumsum', 'cumcount'])\n",
    "\n",
    "cum_hard['cumcount'] = cum_hard['cumcount'] + 1\n",
    "cum_middle['cumcount'] = cum_middle['cumcount'] + 1\n",
    "cum_easy['cumcount'] = cum_easy['cumcount'] + 1\n",
    "\n",
    "train['hard_question_sum'] = cum_hard['cumsum']\n",
    "train['middle_question_sum'] = cum_middle['cumsum']\n",
    "train['easy_question_sum'] = cum_easy['cumsum']\n",
    "\n",
    "train['hard_question_mean'] = cum_hard['cumsum'] / cum_hard['cumcount']\n",
    "train['middle_question_mean'] = cum_middle['cumsum'] / cum_middle['cumcount']\n",
    "train['easy_question_mean'] = cum_easy['cumsum'] / cum_easy['cumcount']"
   ]
  },
  {
   "cell_type": "code",
   "execution_count": null,
   "metadata": {},
   "outputs": [],
   "source": [
    "# hard_question_sum = train[['user_id','hard_question']].groupby('user_id')['hard_question'].agg('sum').reset_index()\n",
    "# hard_question_sum.columns = ['user_id','hard_question_sum']\n",
    "# middle_question_sum = train[['user_id','middle_question']].groupby('user_id')['middle_question'].agg('sum').reset_index()\n",
    "# middle_question_sum.columns = ['user_id','middle_question_sum']\n",
    "# easy_question_sum = train[['user_id','easy_question']].groupby('user_id')['easy_question'].agg('sum').reset_index()\n",
    "# easy_question_sum.columns = ['user_id','easy_question_sum']\n",
    "\n",
    "# hard_question_count = train[['user_id','hard_question']].groupby('user_id')['hard_question'].agg('count').reset_index()\n",
    "# hard_question_count.columns = ['user_id','hard_question_count']\n",
    "# middle_question_count = train[['user_id','middle_question']].groupby('user_id')['middle_question'].agg('count').reset_index()\n",
    "# middle_question_count.columns = ['user_id','middle_question_count']\n",
    "# easy_question_count = train[['user_id','easy_question']].groupby('user_id')['easy_question'].agg('count').reset_index()\n",
    "# easy_question_count.columns = ['user_id','easy_question_count']"
   ]
  },
  {
   "cell_type": "code",
   "execution_count": null,
   "metadata": {},
   "outputs": [],
   "source": [
    "def saveFile():\n",
    "    ##\n",
    "#     answered_correctly_avg_c.to_csv('./answered_correctly_avg_c.csv',index=False)\n",
    "#     answered_correctly_std_c.to_csv('./answered_correctly_std_c.csv',index=False)\n",
    "#     answered_correctly_sum_c.to_csv('./answered_correctly_sum_c.csv',index=False)\n",
    "#     answered_correctly_sum_m.to_csv('./answered_correctly_sum_m.csv',index=False)\n",
    "#     answered_correctly_avg_p.to_csv('./answered_correctly_avg_p.csv',index=False)\n",
    "#     answered_correctly_sum_p.to_csv('./answered_correctly_sum_p.csv',index=False)\n",
    "#     answered_correctly_avg_b.to_csv('./answered_correctly_avg_b.csv',index=False)\n",
    "#     answered_correctly_avg_t.to_csv('./answered_correctly_avg_t.csv',index=False)\n",
    "#     answered_correctly_sum_t.to_csv('./answered_correctly_sum_t.csv',index=False)\n",
    "#     leature_sum.to_csv('./leature_sum.csv',index=False)\n",
    "#     leature_mean.to_csv('./leature_mean.csv',index=False)\n",
    "#     hard_question_sum.to_csv('./hard_question_sum.csv',index=False)\n",
    "#     middle_question_sum.to_csv('./middle_question_sum.csv',index=False)\n",
    "#     easy_question_sum.to_csv('./easy_question_sum.csv',index=False)\n",
    "#     hard_question_count.to_csv('./hard_question_count.csv',index=False)\n",
    "#     middle_question_count.to_csv('./middle_question_count.csv',index=False)\n",
    "#     easy_question_count.to_csv('./easy_question_count.csv',index=False)\n",
    "#     answered_correctly_avg_g.to_csv('./answered_correctly_avg_g.csv',index=False)\n",
    "#     answered_correctly_sum_g.to_csv('./answered_correctly_sum_g.csv',index=False)\n",
    "#     \n",
    "\n",
    "    lag_time_avg_c.to_csv('./lag_time_avg_c.csv',index=False)\n",
    "    lag_time_avg_m.to_csv('./lag_time_avg_m.csv',index=False)\n",
    "    lag_time_avg_b.to_csv('./lag_time_avg_b.csv',index=False)\n",
    "    lag_time_avg_p.to_csv('./lag_time_avg_p.csv',index=False)\n",
    "    lag_time_avg_t.to_csv('./lag_time_avg_t.csv',index=False)\n",
    "    lag_time_avg_g.to_csv('./lag_time_avg_g.csv',index=False)\n",
    "    \n",
    "    \n",
    "# saveFile()\n",
    "###\n",
    "###\n",
    "###"
   ]
  },
  {
   "cell_type": "code",
   "execution_count": null,
   "metadata": {},
   "outputs": [],
   "source": [
    "train['hmean_user_content_accuracy'] = 2 * (\n",
    "    (train['user_correctness'] * train['answered_correctly_avg_c']) /\n",
    "    (train['user_correctness'] + train['answered_correctly_avg_c'])\n",
    ")\n",
    "\n",
    "# valid['hmean_user_content_accuracy'] = 2 * (\n",
    "#     (valid['user_correctness'] * valid['answered_correctly_avg_c']) /\n",
    "#     (valid['user_correctness'] + valid['answered_correctly_avg_c'])\n",
    "# )\n",
    "\n"
   ]
  },
  {
   "cell_type": "code",
   "execution_count": null,
   "metadata": {},
   "outputs": [],
   "source": [
    "train['performance'] = train['answered_correctly_avg_c'] - train['user_correctness']\n",
    "# valid['performance'] = valid['answered_correctly_avg_c'] - valid['user_correctness']"
   ]
  },
  {
   "cell_type": "code",
   "execution_count": null,
   "metadata": {},
   "outputs": [],
   "source": [
    "valid = train[-2500000:]"
   ]
  },
  {
   "cell_type": "code",
   "execution_count": 1,
   "metadata": {},
   "outputs": [],
   "source": [
    "FEATS = ['prior_question_had_explanation',\n",
    " 'part',\n",
    " 'tags_num',\n",
    " 'community',\n",
    " 'answered_correctly_avg_c',\n",
    " 'answered_correctly_std_c',\n",
    " 'answered_correctly_sum_c',\n",
    " 'answered_correctly_sum_m',\n",
    "'answered_correctly_avg_b',\n",
    "'bundle_id',\n",
    " 'user_correct_cumsum',\n",
    " 'user_correct_cumcount',\n",
    " 'user_correctness',\n",
    " 'attempt',\n",
    " 'hmean_user_content_accuracy',\n",
    " 'prior_question_elapsed_time_mean',\n",
    " 'answered_correctly_avg_p',\n",
    " 'answered_correctly_sum_p',\n",
    " 'performance',\n",
    " 'lag_time',\n",
    " 'prior_lag_time',\n",
    " 'explanation_mean',\n",
    " 'explanation_cumsum',\n",
    " 'answered_correctly_avg_t',\n",
    " 'answered_correctly_sum_t',\n",
    "        'lag_time2','lag_time3','elapsed_time_question',\n",
    "'user_lecture_sum',\n",
    "       'user_lecture_lv', 'hard_question_sum', 'middle_question_sum',\n",
    "       'easy_question_sum', 'hard_question_mean', 'middle_question_mean',\n",
    "       'easy_question_mean','tags_lsi','answered_correctly_avg_g','answered_correctly_sum_g'\n",
    "        ,'tag_cor_mean','tag_cor_max','tag_cor_min','user_bundle_first','user_tag_first',\n",
    "        'lag_time_avg_c', 'lag_time_avg_m', 'lag_time_avg_p', 'lag_time_avg_b',\n",
    "       'lag_time_avg_t', 'lag_time_avg_g']"
   ]
  },
  {
   "cell_type": "code",
   "execution_count": 2,
   "metadata": {},
   "outputs": [
    {
     "data": {
      "text/plain": [
       "50"
      ]
     },
     "execution_count": 2,
     "metadata": {},
     "output_type": "execute_result"
    }
   ],
   "source": [
    "len(FEATS)"
   ]
  },
  {
   "cell_type": "code",
   "execution_count": null,
   "metadata": {},
   "outputs": [],
   "source": [
    "TARGET = 'answered_correctly'\n",
    " \n",
    "dro_cols = list(set(train.columns) - set(FEATS))\n",
    "y_tr = train[TARGET]\n",
    "y_va = valid[TARGET]\n",
    "train.drop(dro_cols, axis=1, inplace=True)\n",
    "valid.drop(dro_cols, axis=1, inplace=True)\n"
   ]
  },
  {
   "cell_type": "code",
   "execution_count": null,
   "metadata": {},
   "outputs": [],
   "source": [
    "train.shape"
   ]
  },
  {
   "cell_type": "code",
   "execution_count": null,
   "metadata": {},
   "outputs": [],
   "source": [
    "lgb_train = lgb.Dataset(train[FEATS], y_tr)\n",
    "lgb_valid = lgb.Dataset(valid[FEATS], y_va)\n",
    "del train, y_tr\n",
    "_=gc.collect()"
   ]
  },
  {
   "cell_type": "code",
   "execution_count": null,
   "metadata": {
    "scrolled": true
   },
   "outputs": [],
   "source": [
    "lgbm_params = {\n",
    "    'objective': 'binary',\n",
    "    'metric': ['auc'],\n",
    "    'learning_rate': 0.1,\n",
    "    'num_leaves':2**12,\n",
    "    'subsample': 0.5,\n",
    "    'feature_fraction': 0.5,\n",
    "    'max_bin': 300,\n",
    "    'n_jobs':-1,\n",
    "    'min_data_in_leaf': 2**13,\n",
    "    'n_estimators': 1200,\n",
    "}\n",
    "model = lgb.train(\n",
    "                    lgbm_params, \n",
    "                    lgb_train,\n",
    "                    valid_sets=[lgb_valid],\n",
    "                    verbose_eval=100,\n",
    "                    early_stopping_rounds=50\n",
    "                    \n",
    "                    \n",
    "                )\n",
    "print('auc:', roc_auc_score(y_va, model.predict(valid[FEATS])))\n",
    "_ = lgb.plot_importance(model)"
   ]
  },
  {
   "cell_type": "code",
   "execution_count": null,
   "metadata": {},
   "outputs": [],
   "source": [
    "import matplotlib.pyplot  as plt\n",
    "fig,ax = plt.subplots(figsize=(15,15))\n",
    "lgb.plot_importance(model,ax=ax)"
   ]
  },
  {
   "cell_type": "code",
   "execution_count": null,
   "metadata": {},
   "outputs": [],
   "source": [
    "import pickle \n",
    "with open('lightgbm_600_800.pickle','wb') as fw:\n",
    "    pickle.dump(model,fw)"
   ]
  },
  {
   "cell_type": "code",
   "execution_count": null,
   "metadata": {},
   "outputs": [],
   "source": []
  }
 ],
 "metadata": {
  "kernelspec": {
   "display_name": "Python 3",
   "language": "python",
   "name": "python3"
  },
  "language_info": {
   "codemirror_mode": {
    "name": "ipython",
    "version": 3
   },
   "file_extension": ".py",
   "mimetype": "text/x-python",
   "name": "python",
   "nbconvert_exporter": "python",
   "pygments_lexer": "ipython3",
   "version": "3.7.0"
  }
 },
 "nbformat": 4,
 "nbformat_minor": 4
}
